{
 "cells": [
  {
   "cell_type": "code",
   "execution_count": 2,
   "metadata": {},
   "outputs": [],
   "source": [
    "import os ,csv, boto3\n",
    "import numpy as np\n",
    "from sklearn import preprocessing, neighbors, model_selection, tree, ensemble\n",
    "import pandas as pd"
   ]
  },
  {
   "cell_type": "code",
   "execution_count": 11,
   "metadata": {},
   "outputs": [
    {
     "data": {
      "text/html": [
       "<div>\n",
       "<style scoped>\n",
       "    .dataframe tbody tr th:only-of-type {\n",
       "        vertical-align: middle;\n",
       "    }\n",
       "\n",
       "    .dataframe tbody tr th {\n",
       "        vertical-align: top;\n",
       "    }\n",
       "\n",
       "    .dataframe thead th {\n",
       "        text-align: right;\n",
       "    }\n",
       "</style>\n",
       "<table border=\"1\" class=\"dataframe\">\n",
       "  <thead>\n",
       "    <tr style=\"text-align: right;\">\n",
       "      <th></th>\n",
       "      <th>Unnamed: 0</th>\n",
       "      <th>Actual Room</th>\n",
       "      <th>Bedroom</th>\n",
       "      <th>Dorm Room</th>\n",
       "      <th>Bed</th>\n",
       "      <th>Rug</th>\n",
       "      <th>Cushion</th>\n",
       "      <th>Pillow</th>\n",
       "      <th>Furniture</th>\n",
       "      <th>Bathroom</th>\n",
       "      <th>...</th>\n",
       "      <th>Housing</th>\n",
       "      <th>Chair</th>\n",
       "      <th>Urban</th>\n",
       "      <th>Living Room</th>\n",
       "      <th>Couch</th>\n",
       "      <th>Transportation</th>\n",
       "      <th>Outdoors</th>\n",
       "      <th>Tree</th>\n",
       "      <th>Plant</th>\n",
       "      <th>Table</th>\n",
       "    </tr>\n",
       "  </thead>\n",
       "  <tbody>\n",
       "    <tr>\n",
       "      <th>0</th>\n",
       "      <td>0</td>\n",
       "      <td>Bathroom</td>\n",
       "      <td>0</td>\n",
       "      <td>0</td>\n",
       "      <td>0</td>\n",
       "      <td>0</td>\n",
       "      <td>0</td>\n",
       "      <td>0</td>\n",
       "      <td>1</td>\n",
       "      <td>0</td>\n",
       "      <td>...</td>\n",
       "      <td>0</td>\n",
       "      <td>0</td>\n",
       "      <td>0</td>\n",
       "      <td>0</td>\n",
       "      <td>0</td>\n",
       "      <td>0</td>\n",
       "      <td>0</td>\n",
       "      <td>0</td>\n",
       "      <td>0</td>\n",
       "      <td>0</td>\n",
       "    </tr>\n",
       "    <tr>\n",
       "      <th>1</th>\n",
       "      <td>1</td>\n",
       "      <td>Bathroom</td>\n",
       "      <td>0</td>\n",
       "      <td>0</td>\n",
       "      <td>0</td>\n",
       "      <td>0</td>\n",
       "      <td>0</td>\n",
       "      <td>0</td>\n",
       "      <td>0</td>\n",
       "      <td>0</td>\n",
       "      <td>...</td>\n",
       "      <td>0</td>\n",
       "      <td>0</td>\n",
       "      <td>0</td>\n",
       "      <td>0</td>\n",
       "      <td>0</td>\n",
       "      <td>0</td>\n",
       "      <td>0</td>\n",
       "      <td>0</td>\n",
       "      <td>0</td>\n",
       "      <td>0</td>\n",
       "    </tr>\n",
       "    <tr>\n",
       "      <th>2</th>\n",
       "      <td>2</td>\n",
       "      <td>Bathroom</td>\n",
       "      <td>0</td>\n",
       "      <td>0</td>\n",
       "      <td>0</td>\n",
       "      <td>0</td>\n",
       "      <td>0</td>\n",
       "      <td>0</td>\n",
       "      <td>0</td>\n",
       "      <td>2</td>\n",
       "      <td>...</td>\n",
       "      <td>0</td>\n",
       "      <td>0</td>\n",
       "      <td>0</td>\n",
       "      <td>0</td>\n",
       "      <td>0</td>\n",
       "      <td>0</td>\n",
       "      <td>0</td>\n",
       "      <td>0</td>\n",
       "      <td>0</td>\n",
       "      <td>0</td>\n",
       "    </tr>\n",
       "    <tr>\n",
       "      <th>3</th>\n",
       "      <td>3</td>\n",
       "      <td>Bathroom</td>\n",
       "      <td>0</td>\n",
       "      <td>0</td>\n",
       "      <td>0</td>\n",
       "      <td>0</td>\n",
       "      <td>0</td>\n",
       "      <td>0</td>\n",
       "      <td>0</td>\n",
       "      <td>0</td>\n",
       "      <td>...</td>\n",
       "      <td>0</td>\n",
       "      <td>0</td>\n",
       "      <td>0</td>\n",
       "      <td>0</td>\n",
       "      <td>0</td>\n",
       "      <td>0</td>\n",
       "      <td>0</td>\n",
       "      <td>0</td>\n",
       "      <td>0</td>\n",
       "      <td>0</td>\n",
       "    </tr>\n",
       "    <tr>\n",
       "      <th>4</th>\n",
       "      <td>4</td>\n",
       "      <td>Bathroom</td>\n",
       "      <td>0</td>\n",
       "      <td>0</td>\n",
       "      <td>0</td>\n",
       "      <td>0</td>\n",
       "      <td>0</td>\n",
       "      <td>0</td>\n",
       "      <td>0</td>\n",
       "      <td>1</td>\n",
       "      <td>...</td>\n",
       "      <td>0</td>\n",
       "      <td>0</td>\n",
       "      <td>0</td>\n",
       "      <td>0</td>\n",
       "      <td>0</td>\n",
       "      <td>0</td>\n",
       "      <td>0</td>\n",
       "      <td>0</td>\n",
       "      <td>0</td>\n",
       "      <td>0</td>\n",
       "    </tr>\n",
       "  </tbody>\n",
       "</table>\n",
       "<p>5 rows × 37 columns</p>\n",
       "</div>"
      ],
      "text/plain": [
       "   Unnamed: 0 Actual Room  Bedroom  Dorm Room  Bed  Rug  Cushion  Pillow  \\\n",
       "0           0    Bathroom        0          0    0    0        0       0   \n",
       "1           1    Bathroom        0          0    0    0        0       0   \n",
       "2           2    Bathroom        0          0    0    0        0       0   \n",
       "3           3    Bathroom        0          0    0    0        0       0   \n",
       "4           4    Bathroom        0          0    0    0        0       0   \n",
       "\n",
       "   Furniture  Bathroom  ...  Housing  Chair  Urban  Living Room  Couch  \\\n",
       "0          1         0  ...        0      0      0            0      0   \n",
       "1          0         0  ...        0      0      0            0      0   \n",
       "2          0         2  ...        0      0      0            0      0   \n",
       "3          0         0  ...        0      0      0            0      0   \n",
       "4          0         1  ...        0      0      0            0      0   \n",
       "\n",
       "   Transportation  Outdoors  Tree  Plant  Table  \n",
       "0               0         0     0      0      0  \n",
       "1               0         0     0      0      0  \n",
       "2               0         0     0      0      0  \n",
       "3               0         0     0      0      0  \n",
       "4               0         0     0      0      0  \n",
       "\n",
       "[5 rows x 37 columns]"
      ]
     },
     "execution_count": 11,
     "metadata": {},
     "output_type": "execute_result"
    }
   ],
   "source": [
    "df = pd.read_csv(r'C:\\Users\\Sonal Kumari\\Documents\\Image_Classification-master\\Data5.csv')\n",
    "df.drop('Image name', axis =1, inplace = True)\n",
    "df.head()"
   ]
  },
  {
   "cell_type": "code",
   "execution_count": 14,
   "metadata": {},
   "outputs": [],
   "source": [
    "X = np.array(df.drop(['Actual Room'],1))\n",
    "y = np.array(df['Actual Room'])\n",
    "X_train, X_test, y_train, y_test = model_selection.train_test_split(X, y, test_size=0.2)\n"
   ]
  },
  {
   "cell_type": "code",
   "execution_count": 16,
   "metadata": {},
   "outputs": [
    {
     "name": "stdout",
     "output_type": "stream",
     "text": [
      "0.9977011494252873\n"
     ]
    }
   ],
   "source": [
    "clf = neighbors.KNeighborsClassifier()\n",
    "#clf = tree.DecisionTreeClassifier()\n",
    "#clf = ensemble.RandomForestClassifier()\n",
    "clf.fit(X_train, y_train)\n",
    "accuracy = clf.score(X_test, y_test)\n",
    "print(accuracy)"
   ]
  },
  {
   "cell_type": "code",
   "execution_count": 23,
   "metadata": {},
   "outputs": [],
   "source": [
    "#setup\n",
    "os.environ['AWS_DEFAULT_REGION'] = 'ap-south-1'\n",
    "keys = pd.read_csv(r'C:\\Users\\Sonal Kumari\\Documents\\Image_Classification-master\\Keys.csv')\n",
    "access_key_id = keys['aws access key'][0]\n",
    "secret_key = keys['aws secret key'][0]\n",
    "client = boto3.client('rekognition', aws_access_key_id = access_key_id, aws_secret_access_key = secret_key)\n",
    "s3_client = boto3.client('s3', aws_access_key_id = access_key_id, aws_secret_access_key = secret_key)\n"
   ]
  },
  {
   "cell_type": "code",
   "execution_count": 18,
   "metadata": {},
   "outputs": [],
   "source": [
    "#convert response to acceptable input value\n",
    "threshold_confidence_for_identification = 80.0\n",
    "def getInstanceArray(res):\n",
    "    instance_array = np.zeros(len(df.columns)-1)\n",
    "    for item in res['Labels']:\n",
    "        try:\n",
    "            index = df.columns.get_loc(item['Name'])\n",
    "            instance_array[index-1] = int(item['Confidence']/threshold_confidence_for_identification)\n",
    "        except KeyError:\n",
    "            continue\n",
    "    return instance_array\n"
   ]
  },
  {
   "cell_type": "code",
   "execution_count": 21,
   "metadata": {},
   "outputs": [
    {
     "name": "stdout",
     "output_type": "stream",
     "text": [
      "['Bathroom']\n"
     ]
    },
    {
     "data": {
      "text/plain": [
       "array([[1., 0., 0., 0.]])"
      ]
     },
     "execution_count": 21,
     "metadata": {},
     "output_type": "execute_result"
    }
   ],
   "source": [
    "\n",
    "#classify response  #prediction_prob = [bathroom_prob, bedroom_prob, kitchen_prob, other]\n",
    "response = client.detect_labels(Image = {\"S3Object\": {\"Bucket\":'test-bucket-sonal', \n",
    "                                                      \"Name\":'check/kitchen1.jpg'}})\n",
    "\n",
    "example_measures = getInstanceArray(response)\n",
    "example_measures = example_measures.reshape(1, -1)\n",
    "prediction = clf.predict(example_measures)\n",
    "print(prediction)\n",
    "clf.predict_proba(example_measures)"
   ]
  },
  {
   "cell_type": "code",
   "execution_count": null,
   "metadata": {},
   "outputs": [],
   "source": []
  }
 ],
 "metadata": {
  "kernelspec": {
   "display_name": "Python 3",
   "language": "python",
   "name": "python3"
  },
  "language_info": {
   "codemirror_mode": {
    "name": "ipython",
    "version": 3
   },
   "file_extension": ".py",
   "mimetype": "text/x-python",
   "name": "python",
   "nbconvert_exporter": "python",
   "pygments_lexer": "ipython3",
   "version": "3.7.3"
  }
 },
 "nbformat": 4,
 "nbformat_minor": 2
}
